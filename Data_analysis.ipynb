{
 "cells": [
  {
   "cell_type": "markdown",
   "metadata": {},
   "source": [
    "# Анализ данных"
   ]
  },
  {
   "cell_type": "markdown",
   "metadata": {},
   "source": [
    "## Длины клауз первых и повторных упоминаний референта"
   ]
  },
  {
   "cell_type": "code",
   "execution_count": 169,
   "metadata": {},
   "outputs": [],
   "source": [
    "import pandas as pd\n",
    "import csv\n",
    "with open('ant2.tsv', encoding='utf-8') as f:\n",
    "    file = f.read()\n",
    "    text_whole = file.splitlines()"
   ]
  },
  {
   "cell_type": "code",
   "execution_count": 170,
   "metadata": {},
   "outputs": [
    {
     "data": {
      "text/plain": [
       "2593"
      ]
     },
     "execution_count": 170,
     "metadata": {},
     "output_type": "execute_result"
    }
   ],
   "source": [
    "len(text_whole[1:])"
   ]
  },
  {
   "cell_type": "code",
   "execution_count": 171,
   "metadata": {},
   "outputs": [],
   "source": [
    "from collections import Counter\n",
    "#Counter(text).most_common(242)"
   ]
  },
  {
   "cell_type": "code",
   "execution_count": 172,
   "metadata": {},
   "outputs": [
    {
     "name": "stdout",
     "output_type": "stream",
     "text": [
      "Counter({'1': 102, '2': 51, '3': 22, '4': 8, '5': 4, '6': 2, '9': 1})\n",
      "190\n"
     ]
    },
    {
     "data": {
      "image/png": "[encoded data removed]",
      "text/plain": [
       "<Figure size 432x288 with 1 Axes>"
      ]
     },
     "metadata": {
      "needs_background": "light"
     },
     "output_type": "display_data"
    }
   ],
   "source": [
    "import numpy as np\n",
    "import seaborn as sns\n",
    "import matplotlib.pyplot as plt\n",
    "with open('firts_mentions.txt', encoding='utf-8') as f:\n",
    "    file = f.read()\n",
    "    text = file.splitlines()\n",
    "print(Counter(text))\n",
    "print(len(text))\n",
    "df2 = pd.DataFrame({\n",
    "    'length': text\n",
    "                  })\n",
    "\n",
    "df2['length'].value_counts().plot.bar(color='grey'); # барплот сразу из датафрейма\n",
    "\n",
    "plt.xlabel('длина именной группы')\n",
    "plt.ylabel('количество');"
   ]
  },
  {
   "cell_type": "code",
   "execution_count": 173,
   "metadata": {},
   "outputs": [
    {
     "name": "stdout",
     "output_type": "stream",
     "text": [
      "1479\n",
      "Counter({'1': 994, '2': 289, '3': 120, '4': 41, '5': 18, '6': 9, '7': 6, '10': 2})\n"
     ]
    },
    {
     "data": {
      "image/png": "[encoded data removed]",
      "text/plain": [
       "<Figure size 432x288 with 1 Axes>"
      ]
     },
     "metadata": {
      "needs_background": "light"
     },
     "output_type": "display_data"
    }
   ],
   "source": [
    "with open('second_mentions.txt', encoding='utf-8') as f:\n",
    "    file = f.read()\n",
    "    text = file.splitlines()\n",
    "print(len(text))  \n",
    "print(Counter(text))\n",
    "df2 = pd.DataFrame({\n",
    "    'length': text\n",
    "                  })\n",
    "\n",
    "df2['length'].value_counts().plot.bar(color='grey'); # барплот сразу из датафрейма\n",
    "\n",
    "plt.xlabel('длина именной группы')\n",
    "plt.ylabel('количество');"
   ]
  },
  {
   "cell_type": "markdown",
   "metadata": {},
   "source": [
    "## Личные местоимения"
   ]
  },
  {
   "cell_type": "code",
   "execution_count": 174,
   "metadata": {},
   "outputs": [],
   "source": [
    "with open('me.txt', encoding='utf-8') as f:\n",
    "    file = f.read()\n",
    "    text = file.splitlines()"
   ]
  },
  {
   "cell_type": "code",
   "execution_count": 175,
   "metadata": {},
   "outputs": [
    {
     "data": {
      "text/plain": [
       "327"
      ]
     },
     "execution_count": 175,
     "metadata": {},
     "output_type": "execute_result"
    }
   ],
   "source": [
    "len(text)"
   ]
  },
  {
   "cell_type": "code",
   "execution_count": 176,
   "metadata": {},
   "outputs": [
    {
     "data": {
      "text/plain": [
       "2267"
      ]
     },
     "execution_count": 176,
     "metadata": {},
     "output_type": "execute_result"
    }
   ],
   "source": [
    "len(text_whole) - len(text)"
   ]
  },
  {
   "cell_type": "code",
   "execution_count": 177,
   "metadata": {},
   "outputs": [
    {
     "name": "stderr",
     "output_type": "stream",
     "text": [
      "/Users/mariadolgodvorova/opt/anaconda3/lib/python3.6/site-packages/ipykernel_launcher.py:26: UserWarning: Matplotlib is currently using module://ipykernel.pylab.backend_inline, which is a non-GUI backend, so cannot show the figure.\n"
     ]
    },
    {
     "data": {
      "image/png": "[encoded data removed]",
      "text/plain": [
       "<Figure size 432x216 with 1 Axes>"
      ]
     },
     "metadata": {},
     "output_type": "display_data"
    }
   ],
   "source": [
    "%matplotlib inline\n",
    "fig, ax = plt.subplots(figsize=(6, 3), subplot_kw=dict(aspect=\"equal\"))\n",
    "\n",
    "recipe = [\"2267 другие ИГ\",\n",
    "          \"327 личные местоимения\"]\n",
    "\n",
    "data = [float(x.split()[0]) for x in recipe]\n",
    "ingredients = ['остальные ИГ', 'личные местоимения']\n",
    "\n",
    "\n",
    "def func(pct, allvals):\n",
    "    absolute = int(pct/100.*np.sum(allvals))\n",
    "    return \"{:.1f}%\\n({:d} )\".format(pct, absolute)\n",
    "\n",
    "\n",
    "wedges, texts, autotexts = ax.pie(data, autopct=lambda pct: func(pct, data),\n",
    "                                  textprops=dict(color=\"w\"))\n",
    "\n",
    "ax.legend(wedges, ingredients,\n",
    "          loc=\"center left\",\n",
    "          bbox_to_anchor=(1, 0, 0.5, 1))\n",
    "\n",
    "plt.setp(autotexts, size=8, weight=\"bold\")\n",
    "\n",
    "fig.savefig('местоимения')\n",
    "fig.show()"
   ]
  },
  {
   "cell_type": "code",
   "execution_count": 178,
   "metadata": {},
   "outputs": [],
   "source": [
    "with open('other.txt', encoding='utf-8') as f:\n",
    "    file = f.read()\n",
    "    text = file.splitlines()"
   ]
  },
  {
   "cell_type": "code",
   "execution_count": 179,
   "metadata": {},
   "outputs": [
    {
     "data": {
      "text/plain": [
       "62"
      ]
     },
     "execution_count": 179,
     "metadata": {},
     "output_type": "execute_result"
    }
   ],
   "source": [
    "n = len(text)\n",
    "n"
   ]
  },
  {
   "cell_type": "code",
   "execution_count": 180,
   "metadata": {},
   "outputs": [],
   "source": [
    "with open('whole.txt', encoding='utf-8') as f:\n",
    "    file = f.read()\n",
    "    text = file.splitlines()"
   ]
  },
  {
   "cell_type": "code",
   "execution_count": 181,
   "metadata": {},
   "outputs": [],
   "source": [
    "c = len(text)\n"
   ]
  },
  {
   "cell_type": "code",
   "execution_count": 182,
   "metadata": {},
   "outputs": [
    {
     "data": {
      "text/plain": [
       "16496"
      ]
     },
     "execution_count": 182,
     "metadata": {},
     "output_type": "execute_result"
    }
   ],
   "source": [
    "a = c - n\n",
    "a"
   ]
  },
  {
   "cell_type": "code",
   "execution_count": 183,
   "metadata": {},
   "outputs": [
    {
     "name": "stderr",
     "output_type": "stream",
     "text": [
      "/Users/mariadolgodvorova/opt/anaconda3/lib/python3.6/site-packages/ipykernel_launcher.py:25: UserWarning: Matplotlib is currently using module://ipykernel.pylab.backend_inline, which is a non-GUI backend, so cannot show the figure.\n"
     ]
    },
    {
     "data": {
      "image/png": "[encoded data removed]",
      "text/plain": [
       "<Figure size 432x216 with 1 Axes>"
      ]
     },
     "metadata": {},
     "output_type": "display_data"
    }
   ],
   "source": [
    "fig, ax = plt.subplots(figsize=(6, 3), subplot_kw=dict(aspect=\"equal\"))\n",
    "\n",
    "recipe = [\"14920 другие ИГ\",\n",
    "          \"1638 личные местоимения\"]\n",
    "\n",
    "data = [float(x.split()[0]) for x in recipe]\n",
    "ingredients = ['остальные ИГ', 'личные местоимения']\n",
    "\n",
    "\n",
    "def func(pct, allvals):\n",
    "    absolute = int(pct/100.*np.sum(allvals))\n",
    "    return \"{:.1f}%\\n({:d} )\".format(pct, absolute)\n",
    "\n",
    "\n",
    "wedges, texts, autotexts = ax.pie(data, autopct=lambda pct: func(pct, data),\n",
    "                                  textprops=dict(color=\"w\"))\n",
    "\n",
    "ax.legend(wedges, ingredients,\n",
    "          loc=\"center left\",\n",
    "          bbox_to_anchor=(1, 0, 0.5, 1))\n",
    "\n",
    "plt.setp(autotexts, size=8, weight=\"bold\")\n",
    "\n",
    "fig.savefig('местоимения2')\n",
    "fig.show()"
   ]
  },
  {
   "cell_type": "markdown",
   "metadata": {},
   "source": [
    "## Генитив"
   ]
  },
  {
   "cell_type": "code",
   "execution_count": 184,
   "metadata": {},
   "outputs": [],
   "source": [
    "with open('gen.txt', encoding='utf-8') as f:\n",
    "    file = f.read()\n",
    "    text = file.splitlines()"
   ]
  },
  {
   "cell_type": "code",
   "execution_count": 185,
   "metadata": {},
   "outputs": [
    {
     "data": {
      "text/plain": [
       "2227"
      ]
     },
     "execution_count": 185,
     "metadata": {},
     "output_type": "execute_result"
    }
   ],
   "source": [
    "2593 - len(text)"
   ]
  },
  {
   "cell_type": "code",
   "execution_count": 186,
   "metadata": {},
   "outputs": [
    {
     "data": {
      "text/plain": [
       "366"
      ]
     },
     "execution_count": 186,
     "metadata": {},
     "output_type": "execute_result"
    }
   ],
   "source": [
    "len(text)"
   ]
  },
  {
   "cell_type": "code",
   "execution_count": 187,
   "metadata": {},
   "outputs": [
    {
     "data": {
      "text/plain": [
       "366"
      ]
     },
     "execution_count": 187,
     "metadata": {},
     "output_type": "execute_result"
    }
   ],
   "source": [
    "with open('gen.txt', encoding='utf-8') as f:\n",
    "    file = f.read()\n",
    "    text = file.splitlines()\n",
    "len(text)"
   ]
  },
  {
   "cell_type": "code",
   "execution_count": 188,
   "metadata": {},
   "outputs": [
    {
     "data": {
      "text/plain": [
       "110"
      ]
     },
     "execution_count": 188,
     "metadata": {},
     "output_type": "execute_result"
    }
   ],
   "source": [
    "with open('corefer_only.txt', encoding='utf-8') as f:\n",
    "    file = f.read()\n",
    "    text = file.splitlines()\n",
    "len(text)"
   ]
  },
  {
   "cell_type": "code",
   "execution_count": 189,
   "metadata": {},
   "outputs": [
    {
     "data": {
      "image/png": "[encoded data removed]",
      "text/plain": [
       "<Figure size 432x288 with 1 Axes>"
      ]
     },
     "metadata": {
      "needs_background": "light"
     },
     "output_type": "display_data"
    }
   ],
   "source": [
    "# data to plot\n",
    "n_groups = 2\n",
    "means_frank = (2227, 366)\n",
    "means_guido = (709, 110)\n",
    "\n",
    "# create plot\n",
    "fig, ax = plt.subplots()\n",
    "index = np.arange(n_groups)\n",
    "bar_width = 0.37\n",
    "opacity = 0.8\n",
    "\n",
    "rects1 = plt.bar(index, means_frank, bar_width,\n",
    "alpha=opacity,\n",
    "color='black',\n",
    "label='Other')\n",
    "\n",
    "rects2 = plt.bar(index + bar_width, means_guido, bar_width,\n",
    "alpha=opacity,\n",
    "color='grey',\n",
    "label='Gen')\n",
    "\n",
    "\n",
    "plt.xticks(index + 0.15, (('все ИГ', 'Кореферентные ИГ')))\n",
    "\n",
    "plt.legend()\n",
    "\n",
    "plt.tight_layout()\n",
    "plt.show()"
   ]
  },
  {
   "cell_type": "code",
   "execution_count": 190,
   "metadata": {},
   "outputs": [],
   "source": [
    "with open('singl_gen.txt', encoding='utf-8') as f:\n",
    "    file = f.read()\n",
    "    text = file.splitlines()"
   ]
  },
  {
   "cell_type": "code",
   "execution_count": 191,
   "metadata": {},
   "outputs": [
    {
     "data": {
      "text/plain": [
       "Counter({'1': 232})"
      ]
     },
     "execution_count": 191,
     "metadata": {},
     "output_type": "execute_result"
    }
   ],
   "source": [
    "Counter(text)"
   ]
  },
  {
   "cell_type": "code",
   "execution_count": 192,
   "metadata": {},
   "outputs": [],
   "source": [
    "with open('singl_not_gen.txt', encoding='utf-8') as f:\n",
    "    file = f.read()\n",
    "    text = file.splitlines()"
   ]
  },
  {
   "cell_type": "code",
   "execution_count": 193,
   "metadata": {},
   "outputs": [
    {
     "data": {
      "text/plain": [
       "Counter({'1': 1340})"
      ]
     },
     "execution_count": 193,
     "metadata": {},
     "output_type": "execute_result"
    }
   ],
   "source": [
    "Counter(text)"
   ]
  },
  {
   "cell_type": "code",
   "execution_count": 194,
   "metadata": {},
   "outputs": [
    {
     "data": {
      "text/plain": [
       "577"
      ]
     },
     "execution_count": 194,
     "metadata": {},
     "output_type": "execute_result"
    }
   ],
   "source": [
    "with open('not_sg_not_gen.txt', encoding='utf-8') as f:\n",
    "    file = f.read()\n",
    "    text = file.splitlines()\n",
    "len(text)"
   ]
  },
  {
   "cell_type": "code",
   "execution_count": 195,
   "metadata": {},
   "outputs": [
    {
     "data": {
      "text/plain": [
       "444"
      ]
     },
     "execution_count": 195,
     "metadata": {},
     "output_type": "execute_result"
    }
   ],
   "source": [
    "with open('not_sg_gen.txt', encoding='utf-8') as f:\n",
    "    file = f.read()\n",
    "    text = file.splitlines()\n",
    "len(text)"
   ]
  },
  {
   "cell_type": "code",
   "execution_count": 196,
   "metadata": {},
   "outputs": [
    {
     "data": {
      "image/png": "[encoded data removed]",
      "text/plain": [
       "<Figure size 432x288 with 1 Axes>"
      ]
     },
     "metadata": {
      "needs_background": "light"
     },
     "output_type": "display_data"
    }
   ],
   "source": [
    " # data to plot\n",
    "n_groups = 2\n",
    "means_frank = (1340, 232)\n",
    "means_guido = (577, 444)\n",
    "\n",
    "# create plot\n",
    "fig, ax = plt.subplots()\n",
    "index = np.arange(n_groups)\n",
    "bar_width = 0.37\n",
    "opacity = 0.8\n",
    "\n",
    "rects1 = plt.bar(index, means_frank, bar_width,\n",
    "alpha=opacity,\n",
    "color='black',\n",
    "label='Other')\n",
    "\n",
    "rects2 = plt.bar(index + bar_width, means_guido, bar_width,\n",
    "alpha=opacity,\n",
    "color='grey',\n",
    "label='Gen')\n",
    "\n",
    "\n",
    "plt.xticks(index + 0.15, (('синглтоны', 'не синглтоны')))\n",
    "\n",
    "plt.legend()\n",
    "\n",
    "plt.tight_layout()\n",
    "plt.show()"
   ]
  },
  {
   "cell_type": "markdown",
   "metadata": {},
   "source": [
    "## Количество связей и длины кореферентных цепочек"
   ]
  },
  {
   "cell_type": "code",
   "execution_count": 197,
   "metadata": {},
   "outputs": [
    {
     "data": {
      "text/plain": [
       "709"
      ]
     },
     "execution_count": 197,
     "metadata": {},
     "output_type": "execute_result"
    }
   ],
   "source": [
    "links_ids, coref_len = [], []\n",
    "with open('links_ids.txt', encoding='utf-8') as f:\n",
    "    file = f.read()\n",
    "    text = file.splitlines()\n",
    "    for i in range(len(text)):\n",
    "        links_ids.append(text[i])\n",
    "with open('coref_len.txt', encoding='utf-8') as f:\n",
    "    file = f.read()\n",
    "    text = file.splitlines()\n",
    "    for i in range(len(text)):\n",
    "        coref_len.append(text[i])\n",
    "len(links_ids)"
   ]
  },
  {
   "cell_type": "code",
   "execution_count": 198,
   "metadata": {},
   "outputs": [
    {
     "data": {
      "text/plain": [
       "242"
      ]
     },
     "execution_count": 198,
     "metadata": {},
     "output_type": "execute_result"
    },
    {
     "data": {
      "image/png": "[encoded data removed]",
      "text/plain": [
       "<Figure size 432x288 with 1 Axes>"
      ]
     },
     "metadata": {
      "needs_background": "light"
     },
     "output_type": "display_data"
    }
   ],
   "source": [
    "import statistics\n",
    "df2 = pd.DataFrame({\n",
    "    'chain': links_ids,\n",
    "    'leng' : coref_len\n",
    "                  }).sort_values(by='chain')\n",
    "#Counter(df2['chain'])\n",
    "a = df2['chain'].value_counts()\n",
    "df3 = pd.DataFrame({\n",
    "    'chain': a,\n",
    "                  })\n",
    "df3['chain'].value_counts().plot.bar(color='grey')\n",
    "plt.xlabel('количество кореферентных связей')\n",
    "plt.ylabel('частота');\n",
    "len(a)"
   ]
  },
  {
   "cell_type": "code",
   "execution_count": 199,
   "metadata": {},
   "outputs": [
    {
     "data": {
      "text/plain": [
       "3.9297520661157024"
      ]
     },
     "execution_count": 199,
     "metadata": {},
     "output_type": "execute_result"
    },
    {
     "data": {
      "image/png": "[encoded data removed]",
      "text/plain": [
       "<Figure size 432x288 with 1 Axes>"
      ]
     },
     "metadata": {
      "needs_background": "light"
     },
     "output_type": "display_data"
    }
   ],
   "source": [
    "s = 0\n",
    "d = []\n",
    "while s < len(a):\n",
    "    d.append(int(a[s]) +1)\n",
    "    s +=1\n",
    "df3 = pd.DataFrame({\n",
    "    'chains': d,\n",
    "                  })\n",
    "df3['chains'].value_counts().plot.bar(color='grey')\n",
    "plt.xlabel('длина кореферентной цепочки в токенах')\n",
    "plt.ylabel('частота');\n",
    "statistics.mean(d)"
   ]
  },
  {
   "cell_type": "markdown",
   "metadata": {},
   "source": [
    "## Анализ семантических признаков"
   ]
  },
  {
   "cell_type": "markdown",
   "metadata": {},
   "source": [
    "данные внесены из датафреймов ниже"
   ]
  },
  {
   "cell_type": "code",
   "execution_count": 253,
   "metadata": {},
   "outputs": [
    {
     "name": "stderr",
     "output_type": "stream",
     "text": [
      "/Users/mariadolgodvorova/opt/anaconda3/lib/python3.6/site-packages/ipykernel_launcher.py:33: UserWarning: Matplotlib is currently using module://ipykernel.pylab.backend_inline, which is a non-GUI backend, so cannot show the figure.\n"
     ]
    },
    {
     "data": {
      "image/png": "[encoded data removed]",
      "text/plain": [
       "<Figure size 936x576 with 1 Axes>"
      ]
     },
     "metadata": {},
     "output_type": "display_data"
    }
   ],
   "source": [
    "%matplotlib inline\n",
    "fig, ax = plt.subplots(figsize=(13, 8), subplot_kw=dict(aspect=\"equal\"))\n",
    "\n",
    "recipe = [\"54 loc\",\n",
    "          \"449 pers\",\n",
    "          '67 thing',\n",
    "          '30 abstr',\n",
    "          '62 other'\n",
    "         ]\n",
    "\n",
    "data = [float(x.split()[0]) for x in recipe]\n",
    "ingredients = ['географические объекты', 'люди', 'вещи', 'абстракции', 'другое']\n",
    "\n",
    "\n",
    "def func(pct, allvals):\n",
    "    absolute = int(pct/100.*np.sum(allvals))\n",
    "    return \"{:.1f}%\\n({:d} )\".format(pct, absolute)\n",
    "\n",
    "colors = ['lightskyblue', 'red', 'blue', 'green', 'gold']\n",
    "\n",
    "\n",
    "wedges, texts, autotexts = ax.pie(data, autopct=lambda pct: func(pct, data),\n",
    "  \n",
    "                                  textprops=dict(color=\"w\"))\n",
    "ax.legend(wedges, ingredients,\n",
    "          loc=\"center left\",\n",
    "          bbox_to_anchor=(1, 0, 0.5, 1))\n",
    "\n",
    "\n",
    "plt.setp(autotexts, size=13, weight=\"bold\")\n",
    "\n",
    "fig.savefig('местоимения')\n",
    "fig.show()"
   ]
  },
  {
   "cell_type": "code",
   "execution_count": 284,
   "metadata": {},
   "outputs": [
    {
     "data": {
      "image/png": "[encoded data removed]",
      "text/plain": [
       "<Figure size 936x432 with 1 Axes>"
      ]
     },
     "metadata": {},
     "output_type": "display_data"
    }
   ],
   "source": [
    "labels = ['географические объекты', 'люди', 'вещи', 'абстракции', 'другое']\n",
    "colors = ['grey', 'dimgrey', 'silver', 'gainsboro', 'lightgrey'] \n",
    "fig, ax1 = plt.subplots(figsize = (13,6))\n",
    "data =( 54, 449 , 67, 30 ,62)\n",
    "explode =(0,0.1,0,0.1,0)\n",
    "plt.pie(data, explode=explode, labels= labels, colors=colors, startangle=90, autopct='%.1f%%')\n",
    "\n",
    "ax1.legend(labels, loc = 'center left', bbox_to_anchor=(1, 0, 0.5, 1)) \n",
    "plt.tight_layout() \n",
    "plt.show()\n",
    "plt.show()"
   ]
  },
  {
   "cell_type": "code",
   "execution_count": 234,
   "metadata": {},
   "outputs": [
    {
     "name": "stdout",
     "output_type": "stream",
     "text": [
      "Counter({'1': 42, '2': 9, '4': 2, '3': 1})\n",
      "54\n"
     ]
    },
    {
     "data": {
      "image/png": "[encoded data removed]",
      "text/plain": [
       "<Figure size 432x288 with 1 Axes>"
      ]
     },
     "metadata": {
      "needs_background": "light"
     },
     "output_type": "display_data"
    }
   ],
   "source": [
    "with open('loc.txt', encoding='utf-8') as f:\n",
    "    file = f.read()\n",
    "    text = file.splitlines()\n",
    "print(Counter(text))\n",
    "print(len(text))\n",
    "df2 = pd.DataFrame({\n",
    "    'length': text\n",
    "                  })\n",
    "df2['length'].value_counts().plot.bar(color='grey'); # барплот сразу из датафрейма\n",
    "\n",
    "plt.xlabel('длина именной группы (географические объекты)')\n",
    "plt.ylabel('количество');"
   ]
  },
  {
   "cell_type": "code",
   "execution_count": 235,
   "metadata": {},
   "outputs": [
    {
     "name": "stdout",
     "output_type": "stream",
     "text": [
      "Counter({'1': 413, '2': 22, '3': 9, '6': 2, '4': 2, '5': 1})\n",
      "449\n"
     ]
    },
    {
     "data": {
      "image/png": "[encoded data removed]",
      "text/plain": [
       "<Figure size 432x288 with 1 Axes>"
      ]
     },
     "metadata": {
      "needs_background": "light"
     },
     "output_type": "display_data"
    }
   ],
   "source": [
    "with open('pers.txt', encoding='utf-8') as f:\n",
    "    file = f.read()\n",
    "    text = file.splitlines()\n",
    "print(Counter(text))\n",
    "print(len(text))\n",
    "df3 = pd.DataFrame({\n",
    "    'length': text\n",
    "                  })\n",
    "df3['length'].value_counts().plot.bar(color='grey'); # барплот сразу из датафрейма\n",
    "\n",
    "plt.xlabel('длина именной группы (люди)')\n",
    "plt.ylabel('количество');"
   ]
  },
  {
   "cell_type": "code",
   "execution_count": 236,
   "metadata": {},
   "outputs": [
    {
     "name": "stdout",
     "output_type": "stream",
     "text": [
      "Counter({'1': 50, '2': 6, '3': 6, '4': 2, '6': 2, '5': 1})\n",
      "67\n"
     ]
    },
    {
     "data": {
      "image/png": "[encoded data removed]",
      "text/plain": [
       "<Figure size 432x288 with 1 Axes>"
      ]
     },
     "metadata": {
      "needs_background": "light"
     },
     "output_type": "display_data"
    }
   ],
   "source": [
    "with open('thing.txt', encoding='utf-8') as f:\n",
    "    file = f.read()\n",
    "    text = file.splitlines()\n",
    "print(Counter(text))\n",
    "print(len(text))\n",
    "df4 = pd.DataFrame({\n",
    "    'length': text\n",
    "                  })\n",
    "df4['length'].value_counts().plot.bar(color='grey'); # барплот сразу из датафрейма\n",
    "\n",
    "plt.xlabel('длина именной группы (вещи)')\n",
    "plt.ylabel('количество');"
   ]
  },
  {
   "cell_type": "code",
   "execution_count": 237,
   "metadata": {},
   "outputs": [
    {
     "name": "stdout",
     "output_type": "stream",
     "text": [
      "Counter({'1': 16, '4': 8, '3': 2, '2': 2, '7': 1, '9': 1})\n",
      "30\n"
     ]
    },
    {
     "data": {
      "image/png": "[encoded data removed]",
      "text/plain": [
       "<Figure size 432x288 with 1 Axes>"
      ]
     },
     "metadata": {
      "needs_background": "light"
     },
     "output_type": "display_data"
    }
   ],
   "source": [
    "with open('abstr.txt', encoding='utf-8') as f:\n",
    "    file = f.read()\n",
    "    text = file.splitlines()\n",
    "print(Counter(text))\n",
    "print(len(text))\n",
    "df5 = pd.DataFrame({\n",
    "    'length': text\n",
    "                  })\n",
    "df5['length'].value_counts().plot.bar(color='grey'); # барплот сразу из датафрейма\n",
    "\n",
    "plt.xlabel('длина именной группы (абстракции)')\n",
    "plt.ylabel('количество');"
   ]
  },
  {
   "cell_type": "code",
   "execution_count": 238,
   "metadata": {},
   "outputs": [
    {
     "name": "stdout",
     "output_type": "stream",
     "text": [
      "Counter({'1': 41, '2': 15, '3': 4, '4': 2})\n",
      "62\n"
     ]
    },
    {
     "data": {
      "image/png": "[encoded data removed]",
      "text/plain": [
       "<Figure size 432x288 with 1 Axes>"
      ]
     },
     "metadata": {
      "needs_background": "light"
     },
     "output_type": "display_data"
    }
   ],
   "source": [
    "with open('other.txt', encoding='utf-8') as f:\n",
    "    file = f.read()\n",
    "    text = file.splitlines()\n",
    "print(Counter(text))\n",
    "print(len(text))\n",
    "df5 = pd.DataFrame({\n",
    "    'length': text\n",
    "                  })\n",
    "df5['length'].value_counts().plot.bar(color='grey'); # барплот сразу из датафрейма\n",
    "\n",
    "plt.xlabel('длина именной группы (другое)')\n",
    "plt.ylabel('количество');"
   ]
  },
  {
   "cell_type": "code",
   "execution_count": null,
   "metadata": {},
   "outputs": [],
   "source": []
  }
 ],
 "metadata": {
  "kernelspec": {
   "display_name": "Python 3",
   "language": "python",
   "name": "python3"
  },
  "language_info": {
   "codemirror_mode": {
    "name": "ipython",
    "version": 3
   },
   "file_extension": ".py",
   "mimetype": "text/x-python",
   "name": "python",
   "nbconvert_exporter": "python",
   "pygments_lexer": "ipython3",
   "version": "3.6.9"
  }
 },
 "nbformat": 4,
 "nbformat_minor": 2
}
